{
 "cells": [
  {
   "cell_type": "markdown",
   "metadata": {},
   "source": [
    "### ERIC API"
   ]
  },
  {
   "cell_type": "code",
   "execution_count": 2,
   "metadata": {},
   "outputs": [],
   "source": [
    "from scripts.eric_api import EricApi\n",
    "import pandas as pd"
   ]
  },
  {
   "cell_type": "code",
   "execution_count": 3,
   "metadata": {},
   "outputs": [
    {
     "name": "stdout",
     "output_type": "stream",
     "text": [
      "Search subject:\"Problem Solving\" returned 46,000 records\n",
      "took 388.9 seconds\n"
     ]
    }
   ],
   "source": [
    "eric_api = EricApi()\n",
    "\n",
    "# Define search query\n",
    "search = 'subject:\"Problem Solving\"'\n",
    "\n",
    "# Define fields to retrieve\n",
    "allEricFields = ['id', 'title', 'author', 'source', 'publicationdateyear', 'description',\n",
    "'subject', 'peerreviewed', 'abstractor', 'audience', 'authorxlink',\n",
    "'e_datemodified', 'e_fulltextauth', 'e yearadded', 'educationlevel',\n",
    "'identifiersgeo', 'identifierslaw', 'identifierstest', 'iescited',\n",
    "'iesfunded', 'iesgrantcontractnum', 'iesgrantcontractnumxlink',\n",
    "'ieslinkpublication', 'ieslinkwwcreviewguide', 'ieswwcreviewed',\n",
    "'institution', 'isbn', 'issn', 'language', 'publicationtype',\n",
    "'publisher', 'sourceid', 'sponsor', 'url']\n",
    "\n",
    "# Retrieve and save all records\n",
    "records = eric_api.getAllEricRecords(search, fields=allEricFields)"
   ]
  },
  {
   "cell_type": "code",
   "execution_count": 76,
   "metadata": {},
   "outputs": [
    {
     "data": {
      "text/plain": [
       "'The School Dropout Question in Cuba'"
      ]
     },
     "execution_count": 76,
     "metadata": {},
     "output_type": "execute_result"
    }
   ],
   "source": [
    "records[\"title\"][3]"
   ]
  },
  {
   "cell_type": "code",
   "execution_count": 82,
   "metadata": {},
   "outputs": [
    {
     "ename": "Scopus401Error",
     "evalue": "The requestor is not authorized to access the requested view or fields of the resource",
     "output_type": "error",
     "traceback": [
      "\u001b[0;31m---------------------------------------------------------------------------\u001b[0m",
      "\u001b[0;31mScopus401Error\u001b[0m                            Traceback (most recent call last)",
      "Cell \u001b[0;32mIn[82], line 7\u001b[0m\n\u001b[1;32m      4\u001b[0m \u001b[38;5;28;01mfrom\u001b[39;00m \u001b[38;5;21;01mpybliometrics\u001b[39;00m\u001b[38;5;21;01m.\u001b[39;00m\u001b[38;5;21;01mscopus\u001b[39;00m \u001b[38;5;28;01mimport\u001b[39;00m ScopusSearch\n\u001b[1;32m      6\u001b[0m \u001b[38;5;66;03m# Replace 'YOUR_API_KEY' with your actual Scopus API key\u001b[39;00m\n\u001b[0;32m----> 7\u001b[0m s \u001b[38;5;241m=\u001b[39m \u001b[43mScopusSearch\u001b[49m\u001b[43m(\u001b[49m\u001b[38;5;124;43m'\u001b[39;49m\u001b[38;5;124;43md6510f323d7b880fea8d44b954dcbda8\u001b[39;49m\u001b[38;5;124;43m'\u001b[39;49m\u001b[43m)\u001b[49m\n\u001b[1;32m      9\u001b[0m \u001b[38;5;66;03m# Search for papers by title\u001b[39;00m\n\u001b[1;32m     10\u001b[0m paper_titles \u001b[38;5;241m=\u001b[39m [\u001b[38;5;124m'\u001b[39m\u001b[38;5;124mAccountability--The Next Deadly Nostrum in Education?\u001b[39m\u001b[38;5;124m'\u001b[39m, \u001b[38;5;124m'\u001b[39m\u001b[38;5;124mTraining of Self-Regulatory and Problem-Solving Competence\u001b[39m\u001b[38;5;124m'\u001b[39m, \u001b[38;5;124m'\u001b[39m\u001b[38;5;124mThe School Dropout Question in Cuba\u001b[39m\u001b[38;5;124m'\u001b[39m]\n",
      "File \u001b[0;32m~/myenv/lib/python3.8/site-packages/pybliometrics/scopus/scopus_search.py:206\u001b[0m, in \u001b[0;36mScopusSearch.__init__\u001b[0;34m(self, query, refresh, view, verbose, download, integrity_fields, integrity_action, subscriber, **kwds)\u001b[0m\n\u001b[1;32m    204\u001b[0m \u001b[38;5;28mself\u001b[39m\u001b[38;5;241m.\u001b[39m_query \u001b[38;5;241m=\u001b[39m query\n\u001b[1;32m    205\u001b[0m \u001b[38;5;28mself\u001b[39m\u001b[38;5;241m.\u001b[39m_view \u001b[38;5;241m=\u001b[39m view\n\u001b[0;32m--> 206\u001b[0m \u001b[43mSearch\u001b[49m\u001b[38;5;241;43m.\u001b[39;49m\u001b[38;5;21;43m__init__\u001b[39;49m\u001b[43m(\u001b[49m\u001b[38;5;28;43mself\u001b[39;49m\u001b[43m,\u001b[49m\u001b[43m \u001b[49m\u001b[43mquery\u001b[49m\u001b[38;5;241;43m=\u001b[39;49m\u001b[43mquery\u001b[49m\u001b[43m,\u001b[49m\u001b[43m \u001b[49m\u001b[43mapi\u001b[49m\u001b[38;5;241;43m=\u001b[39;49m\u001b[38;5;124;43m'\u001b[39;49m\u001b[38;5;124;43mScopusSearch\u001b[39;49m\u001b[38;5;124;43m'\u001b[39;49m\u001b[43m,\u001b[49m\u001b[43m \u001b[49m\u001b[43mcount\u001b[49m\u001b[38;5;241;43m=\u001b[39;49m\u001b[43mcount\u001b[49m\u001b[43m,\u001b[49m\n\u001b[1;32m    207\u001b[0m \u001b[43m                \u001b[49m\u001b[43mcursor\u001b[49m\u001b[38;5;241;43m=\u001b[39;49m\u001b[43msubscriber\u001b[49m\u001b[43m,\u001b[49m\u001b[43m \u001b[49m\u001b[43mdownload\u001b[49m\u001b[38;5;241;43m=\u001b[39;49m\u001b[43mdownload\u001b[49m\u001b[43m,\u001b[49m\n\u001b[1;32m    208\u001b[0m \u001b[43m                \u001b[49m\u001b[43mverbose\u001b[49m\u001b[38;5;241;43m=\u001b[39;49m\u001b[43mverbose\u001b[49m\u001b[43m,\u001b[49m\u001b[43m \u001b[49m\u001b[38;5;241;43m*\u001b[39;49m\u001b[38;5;241;43m*\u001b[39;49m\u001b[43mkwds\u001b[49m\u001b[43m)\u001b[49m\n",
      "File \u001b[0;32m~/myenv/lib/python3.8/site-packages/pybliometrics/scopus/superclasses/search.py:66\u001b[0m, in \u001b[0;36mSearch.__init__\u001b[0;34m(self, query, api, count, cursor, download, verbose, **kwds)\u001b[0m\n\u001b[1;32m     63\u001b[0m \u001b[38;5;28mself\u001b[39m\u001b[38;5;241m.\u001b[39m_cache_file_path \u001b[38;5;241m=\u001b[39m parent\u001b[38;5;241m/\u001b[39m\u001b[38;5;28mself\u001b[39m\u001b[38;5;241m.\u001b[39m_view\u001b[38;5;241m/\u001b[39mstem\n\u001b[1;32m     65\u001b[0m \u001b[38;5;66;03m# Init\u001b[39;00m\n\u001b[0;32m---> 66\u001b[0m \u001b[43mBase\u001b[49m\u001b[38;5;241;43m.\u001b[39;49m\u001b[38;5;21;43m__init__\u001b[39;49m\u001b[43m(\u001b[49m\u001b[38;5;28;43mself\u001b[39;49m\u001b[43m,\u001b[49m\u001b[43m \u001b[49m\u001b[43mparams\u001b[49m\u001b[38;5;241;43m=\u001b[39;49m\u001b[43mparams\u001b[49m\u001b[43m,\u001b[49m\u001b[43m \u001b[49m\u001b[43murl\u001b[49m\u001b[38;5;241;43m=\u001b[39;49m\u001b[43mURLS\u001b[49m\u001b[43m[\u001b[49m\u001b[43mapi\u001b[49m\u001b[43m]\u001b[49m\u001b[43m,\u001b[49m\u001b[43m \u001b[49m\u001b[43mdownload\u001b[49m\u001b[38;5;241;43m=\u001b[39;49m\u001b[43mdownload\u001b[49m\u001b[43m,\u001b[49m\n\u001b[1;32m     67\u001b[0m \u001b[43m              \u001b[49m\u001b[43mapi\u001b[49m\u001b[38;5;241;43m=\u001b[39;49m\u001b[43mapi\u001b[49m\u001b[43m,\u001b[49m\u001b[43m \u001b[49m\u001b[43mverbose\u001b[49m\u001b[38;5;241;43m=\u001b[39;49m\u001b[43mverbose\u001b[49m\u001b[43m)\u001b[49m\n",
      "File \u001b[0;32m~/myenv/lib/python3.8/site-packages/pybliometrics/scopus/superclasses/base.py:66\u001b[0m, in \u001b[0;36mBase.__init__\u001b[0;34m(self, params, url, api, download, verbose, *args, **kwds)\u001b[0m\n\u001b[1;32m     64\u001b[0m         \u001b[38;5;28mself\u001b[39m\u001b[38;5;241m.\u001b[39m_json \u001b[38;5;241m=\u001b[39m loads(fname\u001b[38;5;241m.\u001b[39mread_text())\n\u001b[1;32m     65\u001b[0m \u001b[38;5;28;01melse\u001b[39;00m:\n\u001b[0;32m---> 66\u001b[0m     resp \u001b[38;5;241m=\u001b[39m \u001b[43mget_content\u001b[49m\u001b[43m(\u001b[49m\u001b[43murl\u001b[49m\u001b[43m,\u001b[49m\u001b[43m \u001b[49m\u001b[43mapi\u001b[49m\u001b[43m,\u001b[49m\u001b[43m \u001b[49m\u001b[43mparams\u001b[49m\u001b[43m,\u001b[49m\u001b[43m \u001b[49m\u001b[38;5;241;43m*\u001b[39;49m\u001b[43margs\u001b[49m\u001b[43m,\u001b[49m\u001b[43m \u001b[49m\u001b[38;5;241;43m*\u001b[39;49m\u001b[38;5;241;43m*\u001b[39;49m\u001b[43mkwds\u001b[49m\u001b[43m)\u001b[49m\n\u001b[1;32m     67\u001b[0m     header \u001b[38;5;241m=\u001b[39m resp\u001b[38;5;241m.\u001b[39mheaders\n\u001b[1;32m     69\u001b[0m     \u001b[38;5;28;01mif\u001b[39;00m ab_ref_retrieval:\n",
      "File \u001b[0;32m~/myenv/lib/python3.8/site-packages/pybliometrics/scopus/utils/get_content.py:125\u001b[0m, in \u001b[0;36mget_content\u001b[0;34m(url, api, params, **kwds)\u001b[0m\n\u001b[1;32m    123\u001b[0m         \u001b[38;5;28;01mexcept\u001b[39;00m:\n\u001b[1;32m    124\u001b[0m             reason \u001b[38;5;241m=\u001b[39m \u001b[38;5;124m\"\u001b[39m\u001b[38;5;124m\"\u001b[39m\n\u001b[0;32m--> 125\u001b[0m     \u001b[38;5;28;01mraise\u001b[39;00m errors[resp\u001b[38;5;241m.\u001b[39mstatus_code](reason)\n\u001b[1;32m    126\u001b[0m \u001b[38;5;28;01mexcept\u001b[39;00m \u001b[38;5;167;01mKeyError\u001b[39;00m:\n\u001b[1;32m    127\u001b[0m     resp\u001b[38;5;241m.\u001b[39mraise_for_status()\n",
      "\u001b[0;31mScopus401Error\u001b[0m: The requestor is not authorized to access the requested view or fields of the resource"
     ]
    }
   ],
   "source": [
    "import pybliometrics\n",
    "pybliometrics.scopus.init()\n",
    "\n",
    "from pybliometrics.scopus import ScopusSearch\n",
    "\n",
    "# Replace 'YOUR_API_KEY' with your actual Scopus API key\n",
    "s = ScopusSearch('NEW_VALID_API_KEY')\n",
    "\n",
    "# Search for papers by title\n",
    "paper_titles = ['Accountability--The Next Deadly Nostrum in Education?', 'Training of Self-Regulatory and Problem-Solving Competence', 'The School Dropout Question in Cuba']\n",
    "\n",
    "for title in paper_titles:\n",
    "    query = s.search(rf'TITLE(\"{title}\")')\n",
    "    \n",
    "    # Retrieve the first search result (assuming it's the correct paper)\n",
    "    document = query.get_results().entries[0]\n",
    "    \n",
    "    # Print citation data\n",
    "    print(f'Title: {document.title}')\n",
    "    print(f'Authors: {\", \".join(author.indexed_name for author in document.authors)}')\n",
    "    print(f'Publication Year: {document.coverDate[:4]}')\n",
    "    print(f'Citation Count: {document.citedby_count}')\n",
    "    print('---')"
   ]
  },
  {
   "cell_type": "code",
   "execution_count": 15,
   "metadata": {},
   "outputs": [
    {
     "name": "stdout",
     "output_type": "stream",
     "text": [
      "PDF file downloaded successfully.\n"
     ]
    }
   ],
   "source": [
    "import requests\n",
    "\n",
    "# URL of the PDF file\n",
    "url = \"https://files.eric.ed.gov/fulltext/ED599096.pdf\"\n",
    "\n",
    "# Send a GET request to the URL\n",
    "response = requests.get(url)\n",
    "\n",
    "# Check if the request was successful (status code 200)\n",
    "if response.status_code == 200:\n",
    "    # Open a file in binary write mode and write the PDF content to it\n",
    "    with open(\"downloaded_file.pdf\", \"wb\") as f:\n",
    "        f.write(response.content)\n",
    "    print(\"PDF file downloaded successfully.\")\n",
    "else:\n",
    "    print(f\"Failed to download PDF file. Status code: {response.status_code}\")"
   ]
  },
  {
   "cell_type": "code",
   "execution_count": 5,
   "metadata": {},
   "outputs": [],
   "source": [
    "# records.to_csv(\"database/eric_records.csv\", index=False)"
   ]
  },
  {
   "cell_type": "code",
   "execution_count": 4,
   "metadata": {},
   "outputs": [],
   "source": [
    "records = pd.read_csv(\"database/eric_records.csv\")\n",
    "records.dropna(inplace=True)"
   ]
  },
  {
   "cell_type": "code",
   "execution_count": 13,
   "metadata": {},
   "outputs": [],
   "source": [
    "def getCountsYearly(df):\n",
    "    counts = {}\n",
    "    min_year = df[\"publicationdateyear\"].min()  # Get the earliest year in the DataFrame\n",
    "    max_year = df[\"publicationdateyear\"].max()  # Get the latest year in the DataFrame\n",
    "    \n",
    "    for _, row in df.iterrows():\n",
    "        year = int(row[\"publicationdateyear\"])\n",
    "        subject_list = row[\"subject\"].split(\",\")\n",
    "        for subject in subject_list:\n",
    "            if subject not in counts:\n",
    "                counts[subject] = {}\n",
    "            for y in range(year + 1, int(max_year)):  # Include all years from the earliest to the current year\n",
    "                if y not in counts[subject]:\n",
    "                    counts[subject][y] = 0\n",
    "                counts[subject][y] += 1\n",
    "    \n",
    "    # Sort the years in increasing order\n",
    "    for subject in counts:\n",
    "        counts[subject] = {year: counts[subject][year] for year in sorted(counts[subject])}\n",
    "    \n",
    "    return counts\n"
   ]
  },
  {
   "cell_type": "code",
   "execution_count": 14,
   "metadata": {},
   "outputs": [],
   "source": [
    "counts = getCountsYearly(records)"
   ]
  },
  {
   "cell_type": "code",
   "execution_count": null,
   "metadata": {},
   "outputs": [],
   "source": []
  },
  {
   "cell_type": "code",
   "execution_count": 15,
   "metadata": {},
   "outputs": [],
   "source": [
    "import json\n",
    "\n",
    "with open(\"database/eric_counts.json\", \"w\") as f:\n",
    "    json.dump(counts, f)"
   ]
  },
  {
   "cell_type": "code",
   "execution_count": null,
   "metadata": {},
   "outputs": [],
   "source": []
  }
 ],
 "metadata": {
  "kernelspec": {
   "display_name": "myenv",
   "language": "python",
   "name": "python3"
  },
  "language_info": {
   "codemirror_mode": {
    "name": "ipython",
    "version": 3
   },
   "file_extension": ".py",
   "mimetype": "text/x-python",
   "name": "python",
   "nbconvert_exporter": "python",
   "pygments_lexer": "ipython3",
   "version": "3.8.10"
  }
 },
 "nbformat": 4,
 "nbformat_minor": 2
}
